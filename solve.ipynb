{
 "cells": [
  {
   "cell_type": "code",
   "execution_count": 3,
   "metadata": {},
   "outputs": [
    {
     "name": "stdout",
     "output_type": "stream",
     "text": [
      "grid size: 512, dx: 0.07079385920425647\n",
      "simulation time: 4.7124 s, dt: 0.0024 s\n",
      "U*sqrt(gH): 1.31, alpha*(np.abs(U)+c): 0\n",
      "U: 4.103040458001846, alpha: 0.0\n",
      "flowtype: supercritical\n",
      "\n",
      "Time taken:  2.195396661758423\n"
     ]
    }
   ],
   "source": [
    "# SIMULATION\n",
    "import numpy as np\n",
    "import matplotlib.pyplot as plt\n",
    "from copy import copy\n",
    "import list_initial_conditions as ic\n",
    "import list_ibvp_solution as ibvp\n",
    "import list_swwe_function as swe\n",
    "from time import time\n",
    "from flowtype import flowtype_function\n",
    "\n",
    "start=time()\n",
    "# set up nature of the simulation, with or without manufactured solution:\n",
    "# 1. manufactured_solution = ibvp.linearSWWE_mms\n",
    "# 2. manufactured_solution = False\n",
    "mms = False\n",
    "\n",
    "SAT_function = swe.linearised_SWWE_SAT_terms\n",
    "RHS = swe.linearswwe_RHS\n",
    "\n",
    "# set 'generated_wave = False' if manufactured_solution is not False\n",
    "# generated_wave = False\n",
    "# generated_wave = ibvp.zero_wave\n",
    "generated_wave = ibvp.gaussian_wave_1\n",
    "# generated_wave = ibvp.step_function_wave\n",
    "\n",
    "# set up parameters\n",
    "cfl = 0.25\n",
    "H = 1.0\n",
    "g = 9.81\n",
    "c = np.sqrt(g*H)\n",
    "\n",
    "# coefficient may vary \n",
    "U_coeff = 1.31\n",
    "alpha_coeff = 0\n",
    "\n",
    "U = U_coeff*c\n",
    "alpha = alpha_coeff*(np.abs(U)+c)\n",
    "\n",
    "flowtype = flowtype_function(U,c)\n",
    "\n",
    "# set up the domain \n",
    "x0, xN = 0,(np.abs(U)+np.sqrt(g*H))*5\n",
    "# x0, xN = 0, 4\n",
    "N = 2**9\n",
    "dx = (xN-x0)/(N-1)  \n",
    "x = np.linspace(x0,xN,N)\n",
    "\n",
    "# set up time parameters\n",
    "dt = cfl*dx/(np.abs(U) + np.sqrt(g*H))      # (cfl * dx)/max speed\n",
    "sim_time = np.pi*1.5\n",
    "# sim_time = 2*dt\n",
    "\n",
    "# set up supportive matrix \n",
    "Q, A, P_inv, I_N = swe.linearised_SWWE_matrix_supportive(N, dx)\n",
    "\n",
    "# list constants\n",
    "constants = x,H,U,g,c,alpha,flowtype,Q,A,P_inv,I_N, \\\n",
    "        RHS, SAT_function, \\\n",
    "        False, generated_wave \n",
    "\n",
    "# x,H,U,g,c,alpha,flowtype,Q,A,P_inv,RHS_function, SAT,manufactured_solution, analytical_solution = constants\n",
    "\n",
    "# solving the IBVP \n",
    "# set up initial conditions\n",
    "# initial_type (int): The type of initial condition for perturbation height if no MMS. \n",
    "#                                0 = drybed, 1 = Gaussian, 2= Gaussian perturbation \n",
    "\n",
    "q = ic.initial_condition(x, H, U, 0)\n",
    "q[0] += H                       # add the water height to the initial condition to plot the total height\n",
    "                                \n",
    "\n",
    "q_numerical = copy(q)\n",
    "q_analytical = copy(q)\n",
    "\n",
    "q_numerical = swe.numerical_solution_linear(q_numerical,sim_time,dt,constants)\n",
    "# q_analytical = swe.analytical_solution(x,sim_time,dt,constants)\n",
    "\n",
    "end = time()\n",
    "print(f\"grid size: {N}, dx: {dx}\")\n",
    "print(f\"simulation time: {np.round(sim_time,4)} s, dt: {np.round(dt,4)} s\")\n",
    "print(f\"U*sqrt(gH): {U_coeff}, alpha*(np.abs(U)+c): {alpha_coeff}\")\n",
    "print(f\"U: {U}, alpha: {alpha}\")\n",
    "print(f\"flowtype: {flowtype}\")\n",
    "print() \n",
    "print(\"Time taken: \", end-start)\n",
    " "
   ]
  },
  {
   "cell_type": "code",
   "execution_count": 4,
   "metadata": {},
   "outputs": [
    {
     "data": {
      "image/png": "[encoded data removed]",
      "text/plain": [
       "<Figure size 432x288 with 1 Axes>"
      ]
     },
     "metadata": {
      "needs_background": "light"
     },
     "output_type": "display_data"
    }
   ],
   "source": [
    "# PLOT\n",
    "h0, u0 = q_numerical[0]\n",
    "h, u = q_numerical[-2]\n",
    "plt.plot(x,h0, label='initial')\n",
    "plt.plot(x,h, label='final')\n",
    "plt.legend()\n",
    "plt.show()"
   ]
  }
 ],
 "metadata": {
  "kernelspec": {
   "display_name": "swe",
   "language": "python",
   "name": "python3"
  },
  "language_info": {
   "codemirror_mode": {
    "name": "ipython",
    "version": 3
   },
   "file_extension": ".py",
   "mimetype": "text/x-python",
   "name": "python",
   "nbconvert_exporter": "python",
   "pygments_lexer": "ipython3",
   "version": "3.9.12"
  }
 },
 "nbformat": 4,
 "nbformat_minor": 2
}
