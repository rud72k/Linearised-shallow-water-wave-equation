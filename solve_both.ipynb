{
 "cells": [
  {
   "cell_type": "code",
   "execution_count": 1,
   "metadata": {},
   "outputs": [
    {
     "name": "stdout",
     "output_type": "stream",
     "text": [
      "linear\n",
      "non linear\n",
      "grid size: 256, dx: 0.06141356769947382\n",
      "simulation time: 0.0196 s, dt: 0.0049 s\n",
      "U*sqrt(gH): 0\n",
      "U: 0.0\n",
      "dissipation calculate locally alpha = abs(u)+sqrt(gH)\n",
      "flowtype: subcritical\n",
      "\n",
      "Time taken:  0.011537790298461914\n"
     ]
    }
   ],
   "source": [
    "# SIMULATION\n",
    "import numpy as np\n",
    "import matplotlib.pyplot as plt\n",
    "from copy import copy\n",
    "import list_initial_conditions as ic\n",
    "import list_ibvp_solution as ibvp\n",
    "import list_swwe_function as swe\n",
    "from time import time\n",
    "from flowtype import flowtype_function\n",
    "\n",
    "start=time()\n",
    "# set up nature of the simulation, with or without manufactured solution:\n",
    "# 1. manufactured_solution = ibvp.linearSWWE_mms\n",
    "# 2. manufactured_solution = False\n",
    "mms = False\n",
    "\n",
    "SAT_function = swe.linearised_SWWE_SAT_terms\n",
    "# SAT_function = swe.SWE_SAT_terms_no_SAT\n",
    "RHS_linear = swe.linearswwe_RHS      \n",
    "RHS_nonlinear = swe.nonlinear_swwe_RHS\n",
    "\n",
    "# set 'generated_wave = False' if manufactured_solution is not False\n",
    "# generated_wave = False\n",
    "generated_wave = ibvp.zero_wave\n",
    "# generated_wave = ibvp.gaussian_wave_1\n",
    "# generated_wave = ibvp.step_function_wave\n",
    "\n",
    "# set up parameters\n",
    "cfl = 0.25\n",
    "H = 1.0\n",
    "g = 9.81\n",
    "c = np.sqrt(g*H)\n",
    "\n",
    "# coefficient may vary \n",
    "U_coeff = 0\n",
    "alpha_coeff = 0                        \n",
    "\n",
    "U = U_coeff*c\n",
    "alpha = alpha_coeff*(np.abs(U)+c)       # alpha here is  used as a coefficient for the linear part\n",
    "\n",
    "\n",
    "flowtype = flowtype_function(U,c)\n",
    "\n",
    "# set up the domain \n",
    "x0, xN = 0,(np.abs(U)+np.sqrt(g*H))*5\n",
    "# x0, xN = 0, 4\n",
    "N = 2**8\n",
    "dx = (xN-x0)/(N-1)  \n",
    "x = np.linspace(x0,xN,N)\n",
    "\n",
    "# set up time parameters\n",
    "dt = cfl*dx/(np.abs(U) + np.sqrt(g*H))      # (cfl * dx)/max speed\n",
    "# sim_time = np.pi*2\n",
    "timesteps = 4\n",
    "sim_time = timesteps*dt\n",
    "\n",
    "# set up supportive matrix \n",
    "Q, A, P_inv, I_N = swe.linearised_SWWE_matrix_supportive(N, dx)\n",
    "\n",
    "# list constants\n",
    "constants_linear = x,H,U,g,c,alpha,flowtype,Q,A,P_inv,I_N, \\\n",
    "        RHS_linear, SAT_function, \\\n",
    "        False, generated_wave \n",
    "\n",
    "constants_nonlinear = x,H,U,g,c,alpha,flowtype,Q,A,P_inv,I_N, \\\n",
    "        RHS_nonlinear, SAT_function, \\\n",
    "        False, generated_wave \n",
    "\n",
    "# x,H,U,g,c,alpha,flowtype,Q,A,P_inv,RHS_function, SAT,manufactured_solution, analytical_solution = constants\n",
    "\n",
    "# solving the IBVP \n",
    "# set up initial conditions\n",
    "# initial_type (int): The type of initial condition for perturbation height if no MMS. \n",
    "#                                0 = flat, \n",
    "#                                1 = Gaussian + constant H\n",
    "#                                2 = Gaussian for perturbation, \n",
    "#                                4 = dam break with almost dry bed\n",
    "#                                5 = dam break with almost dry bed and perturbation     \n",
    "#                                6 = custom step function (with height=H)\n",
    "#                                8 = flatbed (with height=H)\n",
    "\n",
    "q_numerical_nonconservative      = ic.initial_condition(x, H, U, initial_height_type=8)\n",
    "q_numerical_nonconservative_copy = ic.initial_condition(x, H, U, initial_height_type=8)\n",
    "\n",
    "\n",
    "\n",
    "q = np.zeros_like(q_numerical_nonconservative_copy)\n",
    "q[0] = q_numerical_nonconservative_copy[0]\n",
    "q[1] = q_numerical_nonconservative_copy[0]*q_numerical_nonconservative_copy[1]\n",
    "\n",
    "\n",
    "q_numerical_conservative = copy(q)\n",
    "# q_analytical = copy(q)\n",
    "\n",
    "\n",
    "print(\"linear\")\n",
    "q_numerical_linear = swe.numerical_solution_linear(q_numerical_nonconservative,sim_time,dt,constants_linear)\n",
    "\n",
    "print(\"non linear\")\n",
    "q_numerical_nonlinear = swe.numerical_solution_nonlinear(q_numerical_conservative,sim_time,dt,constants_nonlinear)\n",
    "\n",
    "# q_analytical = swe.analytical_solution(x,sim_time,dt,constants)\n",
    "\n",
    "end = time()\n",
    "print(f\"grid size: {N}, dx: {dx}\")\n",
    "print(f\"simulation time: {np.round(sim_time,4)} s, dt: {np.round(dt,4)} s\")\n",
    "print(f\"U*sqrt(gH): {U_coeff}\")\n",
    "print(f\"U: {U}\")\n",
    "print(f\"dissipation calculate locally alpha = abs(u)+sqrt(gH)\")\n",
    "print(f\"flowtype: {flowtype}\")\n",
    "print() \n",
    "print(\"Time taken: \", end-start)\n",
    " "
   ]
  },
  {
   "cell_type": "code",
   "execution_count": 2,
   "metadata": {},
   "outputs": [
    {
     "name": "stdout",
     "output_type": "stream",
     "text": [
      "(2, 256)\n",
      "(5, 2, 256)\n",
      "(5, 2, 256)\n"
     ]
    }
   ],
   "source": [
    "print(np.shape(ic.initial_condition(x, H, U, initial_height_type=8)))\n",
    "print(np.shape(q_numerical_nonlinear))\n",
    "print(np.shape(q_numerical_linear))"
   ]
  },
  {
   "cell_type": "code",
   "execution_count": 3,
   "metadata": {},
   "outputs": [
    {
     "data": {
      "image/png": "[encoded data removed]",
      "text/plain": [
       "<Figure size 432x288 with 1 Axes>"
      ]
     },
     "metadata": {
      "needs_background": "light"
     },
     "output_type": "display_data"
    },
    {
     "name": "stdout",
     "output_type": "stream",
     "text": [
      "0.0\n",
      "0.15558461139139312\n",
      "0.15558461139139312\n"
     ]
    }
   ],
   "source": [
    "# initial condition \n",
    "# plt.plot(x,q_numerical_nonconservative[0])\n",
    "plt.plot(x,q_numerical_linear[0][0],label=\"linear\")\n",
    "plt.plot(x,q_numerical_nonlinear[0][0],label=\"nonlinear\")\n",
    "plt.legend()\n",
    "plt.show()\n",
    "\n",
    "print(np.linalg.norm(q_numerical_nonconservative[0]-q_numerical_linear[0][0]))\n",
    "print(np.linalg.norm(q_numerical_nonconservative[0]-q_numerical_nonlinear[0][0]))\n",
    "print(np.linalg.norm(q_numerical_linear[0][0]-q_numerical_nonlinear[0][0]))"
   ]
  },
  {
   "cell_type": "code",
   "execution_count": 4,
   "metadata": {},
   "outputs": [],
   "source": [
    "frame = 30"
   ]
  },
  {
   "cell_type": "code",
   "execution_count": 5,
   "metadata": {},
   "outputs": [
    {
     "data": {
      "image/png": "[encoded data removed]",
      "text/plain": [
       "<Figure size 864x864 with 3 Axes>"
      ]
     },
     "metadata": {
      "needs_background": "light"
     },
     "output_type": "display_data"
    }
   ],
   "source": [
    "fig, axs = plt.subplots(3,1, figsize=(12,12))\n",
    "\n",
    "# PLOT\n",
    "if frame <= timesteps:\n",
    "    h1_lin, u1_lin = q_numerical_linear[frame]\n",
    "    h1_nn, uh1_nn = q_numerical_nonlinear[frame]\n",
    "\n",
    "    u1_nn = uh1_nn/h1_nn\n",
    "\n",
    "    axs[0].plot(x,q_numerical_nonconservative[0],label=\"h, initial condition\", color = \"orange\")\n",
    "    axs[0].plot(x,h1_lin, label='h, linear', color=\"blue\")\n",
    "    axs[0].plot(x,h1_nn, '--r', label='h, non-linear')\n",
    "    # axs[0].plot(x,hobs, label='h, analytical', color=\"green\")\n",
    "    # axs[0].plot(x,h[1, :], label='h, torro', color=\"purple\")\n",
    "    axs[0].set_title(\"height\")\n",
    "    axs[0].legend()\n",
    "\n",
    "\n",
    "    axs[1].plot(x,q_numerical_nonconservative[1], label='u, initial condition', color=\"orange\")\n",
    "    axs[1].plot(x,u1_lin, label='u, linear', color=\"blue\")\n",
    "    # axs[1].plot(x,u1_nn, label='u, non-linear', color=\"red\")\n",
    "    axs[1].plot(x,u1_nn, '--r', label='u, non-linear')\n",
    "    # axs[1].plot(x,uobs, label='u, analytical', color=\"green\")\n",
    "    # axs[1].plot(x,u[1, :], label='u, torro', color=\"purple\")\n",
    "    axs[1].set_title(\"velocity\")\n",
    "    axs[1].legend()\n",
    "\n",
    "\n",
    "    axs[2].plot(x,q_numerical_nonconservative[0]*q_numerical_nonconservative[1],label=\"uh, initial condition\", color = \"orange\")\n",
    "    axs[2].plot(x,h1_lin*u1_lin, label='uh, linear', color=\"blue\")\n",
    "    # axs[2].plot(x,q_numerical_nonlinear[frame][1], label='uh, non linear case', color=\"red\")\n",
    "    axs[2].plot(x,q_numerical_nonlinear[frame][1], '--r', label='uh, non linear case')\n",
    "    # axs[2].plot(x,uobs*hobs, label='uh, analytical', color=\"green\")\n",
    "    # axs[2].plot(x,u[1, :]*h[1, :], label='uh, torro', color=\"purple\")\n",
    "    axs[2].legend()\n",
    "    axs[2].set_title(\"momentum\")\n",
    "\n",
    "    fig.suptitle('time = %r seconds'  % np.round(frame*dt,3), fontsize=16)\n",
    "    fig.tight_layout()\n",
    "    \n",
    "    plt.show()  "
   ]
  },
  {
   "cell_type": "code",
   "execution_count": 6,
   "metadata": {},
   "outputs": [
    {
     "name": "stdout",
     "output_type": "stream",
     "text": [
      "Volume check (h*dx)\n"
     ]
    },
    {
     "ename": "IndexError",
     "evalue": "index 30 is out of bounds for axis 0 with size 5",
     "output_type": "error",
     "traceback": [
      "\u001b[0;31m---------------------------------------------------------------------------\u001b[0m",
      "\u001b[0;31mIndexError\u001b[0m                                Traceback (most recent call last)",
      "Input \u001b[0;32mIn [6]\u001b[0m, in \u001b[0;36m<cell line: 6>\u001b[0;34m()\u001b[0m\n\u001b[1;32m      3\u001b[0m h0 \u001b[38;5;241m=\u001b[39m q_numerical_nonconservative[\u001b[38;5;241m0\u001b[39m]\n\u001b[1;32m      4\u001b[0m h0_nn \u001b[38;5;241m=\u001b[39m q_numerical_conservative[\u001b[38;5;241m0\u001b[39m]\n\u001b[0;32m----> 6\u001b[0m h1 \u001b[38;5;241m=\u001b[39m \u001b[43mq_numerical_linear\u001b[49m\u001b[43m[\u001b[49m\u001b[43mframe\u001b[49m\u001b[43m]\u001b[49m[\u001b[38;5;241m0\u001b[39m]\n\u001b[1;32m      7\u001b[0m h1_nn \u001b[38;5;241m=\u001b[39m q_numerical_nonlinear[frame][\u001b[38;5;241m0\u001b[39m]\n\u001b[1;32m      9\u001b[0m volume_initial \u001b[38;5;241m=\u001b[39m np\u001b[38;5;241m.\u001b[39msum(h0\u001b[38;5;241m*\u001b[39mdx)\n",
      "\u001b[0;31mIndexError\u001b[0m: index 30 is out of bounds for axis 0 with size 5"
     ]
    }
   ],
   "source": [
    "# VOLUME CHECK \n",
    "print(\"Volume check (h*dx)\")\n",
    "h0 = q_numerical_nonconservative[0]\n",
    "h0_nn = q_numerical_conservative[0]\n",
    "\n",
    "h1 = q_numerical_linear[frame][0]\n",
    "h1_nn = q_numerical_nonlinear[frame][0]\n",
    "\n",
    "volume_initial = np.sum(h0*dx)\n",
    "volume_initial_nn = np.sum(h0_nn*dx)\n",
    "volume_linear = np.sum(h1*dx)\n",
    "volume_nn = np.sum(h1_nn*dx)\n",
    "\n",
    "print(f\"initial volume: {volume_initial}\")\n",
    "print(f\"error volume non-linear: {(volume_initial_nn - volume_nn)}\")"
   ]
  },
  {
   "cell_type": "code",
   "execution_count": null,
   "metadata": {},
   "outputs": [],
   "source": [
    "# # Animation\n",
    "# from celluloid import Camera\n",
    "# fig = plt.figure()\n",
    "# camera = Camera(fig)\n",
    "\n",
    "\n",
    "\n",
    "# # fig, ax = plt.subplots(2,figsize=(10,10))\n",
    "                       \n",
    "# for frame in range(timesteps):\n",
    "#     if frame % 20 == 0:\n",
    "#         # PLOT\n",
    "#         h_linear, u_linear          = q_numerical_linear[frame] \n",
    "#         h_nonlinear, uh_nonlinear   = q_numerical_nonlinear[frame]\n",
    "\n",
    "#         u_nonlinear = uh_nonlinear/h_nonlinear\n",
    "\n",
    "#         plt.plot(x,h_linear, label='linear', color='blue')\n",
    "#         plt.plot(x,h_nonlinear, label='non-linear', color='orange')\n",
    "#         # plt.legend()\n",
    "#         # ax[0].legend()\n",
    "\n",
    "#         # ax[1].plot(x,u_linear, label='linear')\n",
    "#         # ax[1].plot(x,u_nonlinear, label='non-linear')\n",
    "#         # ax[1].legend()\n",
    "\n",
    "#         camera.snap()\n",
    "# # plt.show()\n",
    "\n",
    "\n",
    "# animation = camera.animate(interval = 200, blit=True)\n",
    "# animation.save('temporary.mp4')"
   ]
  }
 ],
 "metadata": {
  "kernelspec": {
   "display_name": "swe",
   "language": "python",
   "name": "python3"
  },
  "language_info": {
   "codemirror_mode": {
    "name": "ipython",
    "version": 3
   },
   "file_extension": ".py",
   "mimetype": "text/x-python",
   "name": "python",
   "nbconvert_exporter": "python",
   "pygments_lexer": "ipython3",
   "version": "3.9.12"
  }
 },
 "nbformat": 4,
 "nbformat_minor": 2
}
