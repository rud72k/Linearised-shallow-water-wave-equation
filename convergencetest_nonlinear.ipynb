{
 "cells": [
  {
   "cell_type": "code",
   "execution_count": 1,
   "metadata": {},
   "outputs": [
    {
     "name": "stdout",
     "output_type": "stream",
     "text": [
      "Start convergence test\n",
      "N0: 0. Number of grid points: 16\n",
      "some h: [nan nan nan nan nan]\n",
      "N0: 1. Number of grid points: 32\n",
      "some h: [nan nan nan nan nan]\n",
      "N0: 2. Number of grid points: 64\n",
      "some h: [nan nan nan nan nan]\n",
      "N0: 3. Number of grid points: 128\n"
     ]
    },
    {
     "name": "stderr",
     "output_type": "stream",
     "text": [
      "/Users/rud/Documents/101/101-Math/101-Code/2024/Linearised shallow water wave equation/list_swwe_function.py:279: RuntimeWarning: invalid value encountered in true_divide\n",
      "  u = uh/h\n",
      "/Users/rud/Documents/101/101-Math/101-Code/2024/Linearised shallow water wave equation/list_swwe_function.py:315: RuntimeWarning: invalid value encountered in sqrt\n",
      "  alphas = np.maximum(np.abs(u - np.sqrt(g*h)),np.abs(u + np.sqrt(g*h)))\n",
      "/Users/rud/Documents/101/101-Math/101-Code/2024/Linearised shallow water wave equation/list_swwe_function.py:331: RuntimeWarning: invalid value encountered in true_divide\n",
      "  RHS_uh = - I_N*(Q)@(uh**2/h + g*h**2/2) + (1/2)*A@uh\n"
     ]
    },
    {
     "name": "stdout",
     "output_type": "stream",
     "text": [
      "some h: [nan nan nan nan nan]\n",
      "N0: 4. Number of grid points: 256\n",
      "some h: [nan nan nan nan nan]\n",
      "N0: 5. Number of grid points: 512\n",
      "some h: [nan nan nan nan nan]\n",
      "N0: 6. Number of grid points: 1024\n",
      "some h: [nan nan nan nan nan]\n",
      "N0: 7. Number of grid points: 2048\n",
      "some h: [nan nan nan nan nan]\n",
      "N0: 8. Number of grid points: 4096\n"
     ]
    },
    {
     "ename": "KeyboardInterrupt",
     "evalue": "",
     "output_type": "error",
     "traceback": [
      "\u001b[0;31m---------------------------------------------------------------------------\u001b[0m",
      "\u001b[0;31mKeyboardInterrupt\u001b[0m                         Traceback (most recent call last)",
      "Input \u001b[0;32mIn [1]\u001b[0m, in \u001b[0;36m<cell line: 47>\u001b[0;34m()\u001b[0m\n\u001b[1;32m     74\u001b[0m q_numerical \u001b[38;5;241m=\u001b[39m copy(q)\n\u001b[1;32m     75\u001b[0m q_analytical \u001b[38;5;241m=\u001b[39m copy(q)\n\u001b[0;32m---> 77\u001b[0m q_numerical \u001b[38;5;241m=\u001b[39m \u001b[43mswe\u001b[49m\u001b[38;5;241;43m.\u001b[39;49m\u001b[43mnumerical_solution_nonlinear\u001b[49m\u001b[43m(\u001b[49m\u001b[43mq_numerical\u001b[49m\u001b[43m,\u001b[49m\u001b[43msim_time\u001b[49m\u001b[43m,\u001b[49m\u001b[43mdt\u001b[49m\u001b[43m,\u001b[49m\u001b[43mconstants\u001b[49m\u001b[43m)\u001b[49m\n\u001b[1;32m     78\u001b[0m q_analytical \u001b[38;5;241m=\u001b[39m swe\u001b[38;5;241m.\u001b[39manalytical_solution_mms(x,sim_time,dt,constants)\n\u001b[1;32m     80\u001b[0m now \u001b[38;5;241m=\u001b[39m time()\n",
      "File \u001b[0;32m~/Documents/101/101-Math/101-Code/2024/Linearised shallow water wave equation/list_swwe_function.py:380\u001b[0m, in \u001b[0;36mnumerical_solution_nonlinear\u001b[0;34m(initial_quantity, simulation_time, time_step, constants)\u001b[0m\n\u001b[1;32m    377\u001b[0m quantity__ \u001b[38;5;241m+\u001b[39m\u001b[38;5;241m=\u001b[39m (k1 \u001b[38;5;241m+\u001b[39m \u001b[38;5;241m2\u001b[39m\u001b[38;5;241m*\u001b[39mk2 \u001b[38;5;241m+\u001b[39m \u001b[38;5;241m2\u001b[39m\u001b[38;5;241m*\u001b[39mk3 \u001b[38;5;241m+\u001b[39m k4)\u001b[38;5;241m*\u001b[39mtime_step\u001b[38;5;241m/\u001b[39m\u001b[38;5;241m6\u001b[39m\n\u001b[1;32m    379\u001b[0m \u001b[38;5;66;03m# solution.append(quantity)\u001b[39;00m\n\u001b[0;32m--> 380\u001b[0m solution \u001b[38;5;241m=\u001b[39m \u001b[43mnp\u001b[49m\u001b[38;5;241;43m.\u001b[39;49m\u001b[43mvstack\u001b[49m\u001b[43m(\u001b[49m\u001b[43m(\u001b[49m\u001b[43msolution\u001b[49m\u001b[43m,\u001b[49m\u001b[43m[\u001b[49m\u001b[43mquantity__\u001b[49m\u001b[43m]\u001b[49m\u001b[43m)\u001b[49m\u001b[43m)\u001b[49m\n\u001b[1;32m    382\u001b[0m h__, _\u001b[38;5;241m=\u001b[39m quantity__\n\u001b[1;32m    383\u001b[0m \u001b[38;5;66;03m#update constants\u001b[39;00m\n\u001b[1;32m    384\u001b[0m \u001b[38;5;66;03m# constants = x,H,U,g,c,alpha,flowtype,Q,A,P_inv,I_N, \\\u001b[39;00m\n\u001b[1;32m    385\u001b[0m \u001b[38;5;66;03m#     RHS_function, SAT_function, \\\u001b[39;00m\n\u001b[1;32m    386\u001b[0m \u001b[38;5;66;03m#     mms_flag, generated_wave \u001b[39;00m\n",
      "File \u001b[0;32m<__array_function__ internals>:5\u001b[0m, in \u001b[0;36mvstack\u001b[0;34m(*args, **kwargs)\u001b[0m\n",
      "File \u001b[0;32m~/miniconda3/envs/swe/lib/python3.9/site-packages/numpy/core/shape_base.py:282\u001b[0m, in \u001b[0;36mvstack\u001b[0;34m(tup)\u001b[0m\n\u001b[1;32m    280\u001b[0m \u001b[38;5;28;01mif\u001b[39;00m \u001b[38;5;129;01mnot\u001b[39;00m \u001b[38;5;28misinstance\u001b[39m(arrs, \u001b[38;5;28mlist\u001b[39m):\n\u001b[1;32m    281\u001b[0m     arrs \u001b[38;5;241m=\u001b[39m [arrs]\n\u001b[0;32m--> 282\u001b[0m \u001b[38;5;28;01mreturn\u001b[39;00m \u001b[43m_nx\u001b[49m\u001b[38;5;241;43m.\u001b[39;49m\u001b[43mconcatenate\u001b[49m\u001b[43m(\u001b[49m\u001b[43marrs\u001b[49m\u001b[43m,\u001b[49m\u001b[43m \u001b[49m\u001b[38;5;241;43m0\u001b[39;49m\u001b[43m)\u001b[49m\n",
      "File \u001b[0;32m<__array_function__ internals>:5\u001b[0m, in \u001b[0;36mconcatenate\u001b[0;34m(*args, **kwargs)\u001b[0m\n",
      "\u001b[0;31mKeyboardInterrupt\u001b[0m: "
     ]
    }
   ],
   "source": [
    "import numpy as np\n",
    "import matplotlib.pyplot as plt\n",
    "from copy import copy\n",
    "import list_initial_conditions as ic\n",
    "import list_ibvp_solution as ibvp\n",
    "import list_swwe_function as swe\n",
    "from time import time\n",
    "from flowtype import flowtype_function\n",
    "\n",
    "start=time()\n",
    "print(\"Start convergence test\") \n",
    "# set up nature of the simulation, with or without manufactured solution:\n",
    "# 1. manufactured_solution = ibvp.linearSWWE_mms\n",
    "# 2. manufactured_solution = False\n",
    "mms = ibvp.nonlinearSWWE_mms\n",
    "number_of_iteration = 9\n",
    "\n",
    "SAT_function = swe.linearised_SWWE_SAT_terms\n",
    "RHS = swe.nonlinear_swwe_RHS\n",
    "\n",
    "# set 'generated_wave = False' if manufactured_solution is not False\n",
    "generated_wave = False\n",
    "# generated_wave = ibvp.zero_wave\n",
    "# generated_wave = ibvp.gaussian_wave_1\n",
    "# generated_wave = ibvp.step_function_wave\n",
    "\n",
    "\n",
    "# set up parameters\n",
    "cfl = 0.25\n",
    "H = 1.0\n",
    "g = 9.81\n",
    "c = np.sqrt(g*H)\n",
    "\n",
    "# coefficient may vary \n",
    "U_coeff = 0.5\n",
    "alpha_coeff = 0.0\n",
    "\n",
    "U = U_coeff*c\n",
    "alpha = alpha_coeff*(np.abs(U)+c)\n",
    "\n",
    "flowtype = flowtype_function(U,c)\n",
    "\n",
    "error_h = np.zeros(number_of_iteration)\n",
    "error_u = np.zeros(number_of_iteration)\n",
    "\n",
    "now = time()\n",
    "for n__ in range(number_of_iteration):\n",
    "        # set up the domain \n",
    "        # x0, xN = 0, 4\n",
    "        x0, xN = 0,(np.abs(U)+np.sqrt(g*H))*5\n",
    "        N = 2**(4+n__)\n",
    "        print(f\"N0: {n__}. Number of grid points: {N}\")\n",
    "        dx = (xN-x0)/(N-1)  \n",
    "        x = np.linspace(x0,xN,N)\n",
    "\n",
    "        # set up time parameters\n",
    "        dt = cfl*dx/(np.abs(U) + np.sqrt(g*H))      # (cfl * dx)/max speed\n",
    "        sim_time = np.pi*0.2\n",
    "\n",
    "        # set up supportive matrix \n",
    "        Q, A, P_inv, I_N = swe.linearised_SWWE_matrix_supportive(N, dx)\n",
    "\n",
    "        # list constants\n",
    "        constants = x,H,0,g,c,alpha,flowtype,Q,A,P_inv, I_N, \\\n",
    "                RHS, SAT_function, \\\n",
    "                mms, generated_wave \n",
    "\n",
    "        # x,H,U,g,c,alpha,flowtype,Q,A,P_inv,RHS_function, SAT,manufactured_solution, analytical_solution = constants\n",
    "\n",
    "        # solving the IBVP \n",
    "\n",
    "        # set up initial conditions\n",
    "        q, _ = ibvp.nonlinearSWWE_mms(x,0,H,U,g)\n",
    "        q_numerical = copy(q)\n",
    "        q_analytical = copy(q)\n",
    "\n",
    "        q_numerical = swe.numerical_solution_nonlinear(q_numerical,sim_time,dt,constants)\n",
    "        q_analytical = swe.analytical_solution_mms(x,sim_time,dt,constants)\n",
    "\n",
    "        now = time()\n",
    "        \n",
    "        # error calculation\n",
    "        q_numerical = np.array(q_numerical[-1])\n",
    "        q_analytical = np.array(q_analytical[-1])\n",
    "\n",
    "        print(f'some h: {q_numerical[0][:5]}')\n",
    "\n",
    "        error_h[n__] = np.linalg.norm(q_numerical[0] - q_analytical[0])*np.sqrt(dx)\n",
    "        error_u[n__] = np.linalg.norm(q_numerical[1] - q_analytical[1])*np.sqrt(dx)\n",
    "\n",
    "        \n",
    "\n",
    "error_rate_h = np.log2(error_h[:-1]/error_h[1:])\n",
    "error_rate_u = np.log2(error_h[:-1]/error_h[1:])\n",
    "\n",
    "\n",
    "end = time()\n",
    "\n",
    "print(f\"Number of iteration: {number_of_iteration}, {2**(6)} to  {2**(6+n__)}, dx: {dx}\")\n",
    "print(f\"simulation time: {np.round(sim_time,4)} s, dt: {np.round(dt,4)} s\")\n",
    "print(f\"U*sqrt(gH): {U_coeff}, alpha*(np.abs(U)+c): {alpha_coeff}\")\n",
    "print(f\"U: {U}, alpha: {alpha}\")\n",
    "print(f\"flowtype: {flowtype}\")\n",
    "print() \n",
    "print(f\"Time elapsed: {np.round(end-start,4)} seconds\")\n",
    "print() \n",
    "print(f\"Error in h: {error_rate_h}\")\n",
    "print(f\"Error in u: {error_rate_u}\")\n",
    "\n",
    "\n",
    "# plt.plot(x,q[0], label=0)\n",
    "# for i in range (int(sim_time//dt)):\n",
    "#     q0 = q_numerical[i+1]\n",
    "#     h, u = q0 \n",
    "#     plt.plot(x,h,label=i)\n",
    "#     plt.legend()\n",
    "# plt.show()\n",
    "# %%\n",
    " "
   ]
  },
  {
   "cell_type": "code",
   "execution_count": null,
   "metadata": {},
   "outputs": [],
   "source": []
  },
  {
   "cell_type": "code",
   "execution_count": null,
   "metadata": {},
   "outputs": [
    {
     "data": {
      "text/plain": [
       "array([nan, nan, nan, nan, nan, nan, nan, nan])"
      ]
     },
     "execution_count": 7,
     "metadata": {},
     "output_type": "execute_result"
    }
   ],
   "source": [
    "error_rate_h"
   ]
  },
  {
   "cell_type": "code",
   "execution_count": null,
   "metadata": {},
   "outputs": [],
   "source": []
  }
 ],
 "metadata": {
  "kernelspec": {
   "display_name": "swe",
   "language": "python",
   "name": "python3"
  },
  "language_info": {
   "codemirror_mode": {
    "name": "ipython",
    "version": 3
   },
   "file_extension": ".py",
   "mimetype": "text/x-python",
   "name": "python",
   "nbconvert_exporter": "python",
   "pygments_lexer": "ipython3",
   "version": "3.9.12"
  }
 },
 "nbformat": 4,
 "nbformat_minor": 2
}
